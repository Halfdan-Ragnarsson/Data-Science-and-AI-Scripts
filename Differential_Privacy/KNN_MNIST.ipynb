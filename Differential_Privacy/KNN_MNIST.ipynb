{
 "cells": [
  {
   "cell_type": "markdown",
   "metadata": {},
   "source": [
    "## This is a KNN classification algorithm that aims to best classify images from the MNIST Dataset "
   ]
  },
  {
   "cell_type": "code",
   "execution_count": null,
   "metadata": {},
   "outputs": [],
   "source": [
    "#Relevant imports\n",
    "import numpy as np\n",
    "from scipy.integrate import odeint\n",
    "import matplotlib.pyplot as plt\n",
    "import scipy as sc\n",
    "import pandas as pd\n",
    "import math"
   ]
  },
  {
   "cell_type": "markdown",
   "metadata": {},
   "source": [
    "## What is this?\n",
    "This is a particular implementation of the KNN algorithm for classifying images in the MNIST dataset. Here, a eculidean distance metric is used."
   ]
  },
  {
   "cell_type": "code",
   "execution_count": 106,
   "metadata": {},
   "outputs": [],
   "source": [
    "#Notes, import MNIST data set. Credit to Sklearn for loading dataset code. \n",
    "#Note, Sklearn will not be used for any sort of \n",
    "import matplotlib.pyplot as plt\n",
    "\n",
    "# Import datasets, classifiers and performance metrics\n",
    "from sklearn import datasets, svm, metrics\n",
    "from sklearn.model_selection import train_test_split\n",
    "\n",
    "# The digits dataset\n",
    "digits = datasets.load_digits()\n",
    "\n",
    "# To apply a classifier on this data, we need to flatten the image, to\n",
    "# turn the data in a (samples, feature) matrix:\n",
    "n_samples = len(digits.images)\n",
    "data = digits.images.reshape((n_samples, -1))\n",
    "\n",
    "# Split data into train and test subsets\n",
    "X_train, X_test, y_train, y_test = train_test_split(\n",
    "    data, digits.target, test_size=0.5, shuffle=False)\n",
    "\n",
    "#This is for later\n",
    "(trainData, valData, trainLabels, valLabels) = train_test_split(X_train, y_train,\n",
    "    test_size=0.1, random_state=84)"
   ]
  },
  {
   "cell_type": "code",
   "execution_count": 107,
   "metadata": {},
   "outputs": [],
   "source": [
    "#Euclidean distance betweeen two arrays\n",
    "def shortestDistance(row1, row2):\n",
    "        distance = 0.0\n",
    "        for i in range(len(row1)-1):\n",
    "            distance += math.pow((row1[i] - row2[i]),2)\n",
    "        return math.sqrt(distance)"
   ]
  },
  {
   "cell_type": "code",
   "execution_count": 128,
   "metadata": {},
   "outputs": [],
   "source": [
    " #perform merge sort here\n",
    "def mergeSort(arr, key = lambda x:x): \n",
    "        if len(arr) <2:\n",
    "            return arr\n",
    "        \n",
    "        mid = len(arr)//2 #Finding the mid of the array \n",
    "        L = arr[:mid] # Dividing the array elements  \n",
    "        R = arr[mid:] # into 2 halves \n",
    "        mergeSort(L) # Sorting the first half \n",
    "        mergeSort(R) # Sorting the second half \n",
    "    \n",
    "        i = 0\n",
    "        j = 0\n",
    "        k = 0\n",
    "            \n",
    "        # Copy data to temp arrays L[] and R[] \n",
    "        while i < len(L) and j < len(R): \n",
    "            if key(L[i]) <key(R[j]): \n",
    "                arr[k] = L[i] \n",
    "                i+=1\n",
    "            else: \n",
    "                arr[k] = R[j] \n",
    "                j+=1\n",
    "            k+=1\n",
    "            \n",
    "        # Checking if any elements were left \n",
    "        while i < len(L): \n",
    "            arr[k] = L[i] \n",
    "            i+=1\n",
    "            k+=1\n",
    "            \n",
    "        while j < len(R): \n",
    "            arr[k] = R[j] \n",
    "            j+=1\n",
    "            k+=1  \n",
    "        return arr"
   ]
  },
  {
   "cell_type": "code",
   "execution_count": 143,
   "metadata": {},
   "outputs": [],
   "source": [
    "#KNN driver, return the \n",
    "def knn(train_x, train_y, point, k):\n",
    "    #List to store distances\n",
    "    distances =[]\n",
    "    \n",
    "    #List to store neighbors\n",
    "    k_nearest_neighbors = []\n",
    "    \n",
    "    #Variable to increment along the training set labels\n",
    "    i = 0\n",
    "    \n",
    "    #iterate over the training set\n",
    "    for training_point in train_x:\n",
    "        #Add the euclidean distance between the training point and test point\n",
    "        distances.append((shortestDistance(training_point,point),train_y[i]))\n",
    "        #Increment over the testing set \n",
    "        i = i+1\n",
    "    #sort the distances\n",
    "    sorted_distances = mergeSort(distances, key = lambda x:x[0])\n",
    "    #Get the top k matches\n",
    "    for i in range(k):\n",
    "        k_nearest_neighbors.append(sorted_distances.pop(1))\n",
    "    \n",
    "    #Get the frequency using numpy functions, then return the closest label\n",
    "    k_nearest_neighbors = np.asarray(k_nearest_neighbors)\n",
    "    frequencies = np.unique(k_nearest_neighbors[:,1],return_counts = True)\n",
    "    labels,counts = frequencies\n",
    "    maj = labels[counts.argmax()]\n",
    "    return maj"
   ]
  },
  {
   "cell_type": "code",
   "execution_count": 144,
   "metadata": {},
   "outputs": [],
   "source": [
    "#Driver class as to run the KNN algorithm\n",
    "def main():\n",
    "    #read user input on the number of neighbors to find\n",
    "    k = input(\"Enter number of neighbors: \")\n",
    "    k = int(k)\n",
    "    #variable to access each label of the test set\n",
    "    z = 0\n",
    "    #Number of correct predictions\n",
    "    total = 0\n",
    "    #Iterate over the test set to make predictions\n",
    "    for element in X_test:\n",
    "        #make a prediction using a KNN\n",
    "        prediction = knn(X_train, y_train,element,k)\n",
    "        #check if the predicition is correct, increment the number right if so\n",
    "        if(prediction == y_test[z]):\n",
    "            total = total+1\n",
    "        #Increment the counting variable\n",
    "        z = z+1\n",
    "    #Print the accuracy\n",
    "    print(total/len(y_test)*100)"
   ]
  },
  {
   "cell_type": "code",
   "execution_count": null,
   "metadata": {},
   "outputs": [],
   "source": [
    "#Call the driver function\n",
    "main()"
   ]
  }
 ],
 "metadata": {
  "kernelspec": {
   "display_name": "Python 3",
   "language": "python",
   "name": "python3"
  },
  "language_info": {
   "codemirror_mode": {
    "name": "ipython",
    "version": 3
   },
   "file_extension": ".py",
   "mimetype": "text/x-python",
   "name": "python",
   "nbconvert_exporter": "python",
   "pygments_lexer": "ipython3",
   "version": "3.8.3"
  }
 },
 "nbformat": 4,
 "nbformat_minor": 4
}
